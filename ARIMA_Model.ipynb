{
  "nbformat": 4,
  "nbformat_minor": 0,
  "metadata": {
    "colab": {
      "provenance": [],
      "authorship_tag": "ABX9TyPyEpM6ynB01dn6HT/SlY1B",
      "include_colab_link": true
    },
    "kernelspec": {
      "name": "python3",
      "display_name": "Python 3"
    },
    "language_info": {
      "name": "python"
    }
  },
  "cells": [
    {
      "cell_type": "markdown",
      "metadata": {
        "id": "view-in-github",
        "colab_type": "text"
      },
      "source": [
        "<a href=\"https://colab.research.google.com/github/awolaja/AI_in_Finance/blob/master/ARIMA_Model.ipynb\" target=\"_parent\"><img src=\"https://colab.research.google.com/assets/colab-badge.svg\" alt=\"Open In Colab\"/></a>"
      ]
    },
    {
      "cell_type": "code",
      "source": [
        "!pip install backtrader\n",
        "!pip install alpaca-trade-api\n",
        "!pip install yfinance\n",
        "!pip install pandas_datareader"
      ],
      "metadata": {
        "colab": {
          "base_uri": "https://localhost:8080/"
        },
        "id": "iiRnS3Ujir3W",
        "outputId": "cbe7c1d5-798e-44c0-dbf9-c990c48fbf40"
      },
      "execution_count": 84,
      "outputs": [
        {
          "output_type": "stream",
          "name": "stdout",
          "text": [
            "Requirement already satisfied: backtrader in /usr/local/lib/python3.10/dist-packages (1.9.78.123)\n",
            "Requirement already satisfied: alpaca-trade-api in /usr/local/lib/python3.10/dist-packages (3.2.0)\n",
            "Requirement already satisfied: pandas>=0.18.1 in /usr/local/lib/python3.10/dist-packages (from alpaca-trade-api) (2.1.4)\n",
            "Requirement already satisfied: numpy>=1.11.1 in /usr/local/lib/python3.10/dist-packages (from alpaca-trade-api) (1.26.4)\n",
            "Requirement already satisfied: requests<3,>2 in /usr/local/lib/python3.10/dist-packages (from alpaca-trade-api) (2.32.3)\n",
            "Requirement already satisfied: urllib3<2,>1.24 in /usr/local/lib/python3.10/dist-packages (from alpaca-trade-api) (1.26.19)\n",
            "Requirement already satisfied: websocket-client<2,>=0.56.0 in /usr/local/lib/python3.10/dist-packages (from alpaca-trade-api) (1.8.0)\n",
            "Requirement already satisfied: websockets<11,>=9.0 in /usr/local/lib/python3.10/dist-packages (from alpaca-trade-api) (10.4)\n",
            "Requirement already satisfied: msgpack==1.0.3 in /usr/local/lib/python3.10/dist-packages (from alpaca-trade-api) (1.0.3)\n",
            "Requirement already satisfied: aiohttp<4,>=3.8.3 in /usr/local/lib/python3.10/dist-packages (from alpaca-trade-api) (3.10.5)\n",
            "Requirement already satisfied: PyYAML==6.0.1 in /usr/local/lib/python3.10/dist-packages (from alpaca-trade-api) (6.0.1)\n",
            "Requirement already satisfied: deprecation==2.1.0 in /usr/local/lib/python3.10/dist-packages (from alpaca-trade-api) (2.1.0)\n",
            "Requirement already satisfied: packaging in /usr/local/lib/python3.10/dist-packages (from deprecation==2.1.0->alpaca-trade-api) (24.1)\n",
            "Requirement already satisfied: aiohappyeyeballs>=2.3.0 in /usr/local/lib/python3.10/dist-packages (from aiohttp<4,>=3.8.3->alpaca-trade-api) (2.4.0)\n",
            "Requirement already satisfied: aiosignal>=1.1.2 in /usr/local/lib/python3.10/dist-packages (from aiohttp<4,>=3.8.3->alpaca-trade-api) (1.3.1)\n",
            "Requirement already satisfied: attrs>=17.3.0 in /usr/local/lib/python3.10/dist-packages (from aiohttp<4,>=3.8.3->alpaca-trade-api) (24.2.0)\n",
            "Requirement already satisfied: frozenlist>=1.1.1 in /usr/local/lib/python3.10/dist-packages (from aiohttp<4,>=3.8.3->alpaca-trade-api) (1.4.1)\n",
            "Requirement already satisfied: multidict<7.0,>=4.5 in /usr/local/lib/python3.10/dist-packages (from aiohttp<4,>=3.8.3->alpaca-trade-api) (6.0.5)\n",
            "Requirement already satisfied: yarl<2.0,>=1.0 in /usr/local/lib/python3.10/dist-packages (from aiohttp<4,>=3.8.3->alpaca-trade-api) (1.9.4)\n",
            "Requirement already satisfied: async-timeout<5.0,>=4.0 in /usr/local/lib/python3.10/dist-packages (from aiohttp<4,>=3.8.3->alpaca-trade-api) (4.0.3)\n",
            "Requirement already satisfied: python-dateutil>=2.8.2 in /usr/local/lib/python3.10/dist-packages (from pandas>=0.18.1->alpaca-trade-api) (2.8.2)\n",
            "Requirement already satisfied: pytz>=2020.1 in /usr/local/lib/python3.10/dist-packages (from pandas>=0.18.1->alpaca-trade-api) (2024.1)\n",
            "Requirement already satisfied: tzdata>=2022.1 in /usr/local/lib/python3.10/dist-packages (from pandas>=0.18.1->alpaca-trade-api) (2024.1)\n",
            "Requirement already satisfied: charset-normalizer<4,>=2 in /usr/local/lib/python3.10/dist-packages (from requests<3,>2->alpaca-trade-api) (3.3.2)\n",
            "Requirement already satisfied: idna<4,>=2.5 in /usr/local/lib/python3.10/dist-packages (from requests<3,>2->alpaca-trade-api) (3.7)\n",
            "Requirement already satisfied: certifi>=2017.4.17 in /usr/local/lib/python3.10/dist-packages (from requests<3,>2->alpaca-trade-api) (2024.7.4)\n",
            "Requirement already satisfied: six>=1.5 in /usr/local/lib/python3.10/dist-packages (from python-dateutil>=2.8.2->pandas>=0.18.1->alpaca-trade-api) (1.16.0)\n",
            "Requirement already satisfied: yfinance in /usr/local/lib/python3.10/dist-packages (0.2.42)\n",
            "Requirement already satisfied: pandas>=1.3.0 in /usr/local/lib/python3.10/dist-packages (from yfinance) (2.1.4)\n",
            "Requirement already satisfied: numpy>=1.16.5 in /usr/local/lib/python3.10/dist-packages (from yfinance) (1.26.4)\n",
            "Requirement already satisfied: requests>=2.31 in /usr/local/lib/python3.10/dist-packages (from yfinance) (2.32.3)\n",
            "Requirement already satisfied: multitasking>=0.0.7 in /usr/local/lib/python3.10/dist-packages (from yfinance) (0.0.11)\n",
            "Requirement already satisfied: lxml>=4.9.1 in /usr/local/lib/python3.10/dist-packages (from yfinance) (4.9.4)\n",
            "Requirement already satisfied: platformdirs>=2.0.0 in /usr/local/lib/python3.10/dist-packages (from yfinance) (4.2.2)\n",
            "Requirement already satisfied: pytz>=2022.5 in /usr/local/lib/python3.10/dist-packages (from yfinance) (2024.1)\n",
            "Requirement already satisfied: frozendict>=2.3.4 in /usr/local/lib/python3.10/dist-packages (from yfinance) (2.4.4)\n",
            "Requirement already satisfied: peewee>=3.16.2 in /usr/local/lib/python3.10/dist-packages (from yfinance) (3.17.6)\n",
            "Requirement already satisfied: beautifulsoup4>=4.11.1 in /usr/local/lib/python3.10/dist-packages (from yfinance) (4.12.3)\n",
            "Requirement already satisfied: html5lib>=1.1 in /usr/local/lib/python3.10/dist-packages (from yfinance) (1.1)\n",
            "Requirement already satisfied: soupsieve>1.2 in /usr/local/lib/python3.10/dist-packages (from beautifulsoup4>=4.11.1->yfinance) (2.6)\n",
            "Requirement already satisfied: six>=1.9 in /usr/local/lib/python3.10/dist-packages (from html5lib>=1.1->yfinance) (1.16.0)\n",
            "Requirement already satisfied: webencodings in /usr/local/lib/python3.10/dist-packages (from html5lib>=1.1->yfinance) (0.5.1)\n",
            "Requirement already satisfied: python-dateutil>=2.8.2 in /usr/local/lib/python3.10/dist-packages (from pandas>=1.3.0->yfinance) (2.8.2)\n",
            "Requirement already satisfied: tzdata>=2022.1 in /usr/local/lib/python3.10/dist-packages (from pandas>=1.3.0->yfinance) (2024.1)\n",
            "Requirement already satisfied: charset-normalizer<4,>=2 in /usr/local/lib/python3.10/dist-packages (from requests>=2.31->yfinance) (3.3.2)\n",
            "Requirement already satisfied: idna<4,>=2.5 in /usr/local/lib/python3.10/dist-packages (from requests>=2.31->yfinance) (3.7)\n",
            "Requirement already satisfied: urllib3<3,>=1.21.1 in /usr/local/lib/python3.10/dist-packages (from requests>=2.31->yfinance) (1.26.19)\n",
            "Requirement already satisfied: certifi>=2017.4.17 in /usr/local/lib/python3.10/dist-packages (from requests>=2.31->yfinance) (2024.7.4)\n",
            "Requirement already satisfied: pandas_datareader in /usr/local/lib/python3.10/dist-packages (0.10.0)\n",
            "Requirement already satisfied: lxml in /usr/local/lib/python3.10/dist-packages (from pandas_datareader) (4.9.4)\n",
            "Requirement already satisfied: pandas>=0.23 in /usr/local/lib/python3.10/dist-packages (from pandas_datareader) (2.1.4)\n",
            "Requirement already satisfied: requests>=2.19.0 in /usr/local/lib/python3.10/dist-packages (from pandas_datareader) (2.32.3)\n",
            "Requirement already satisfied: numpy<2,>=1.22.4 in /usr/local/lib/python3.10/dist-packages (from pandas>=0.23->pandas_datareader) (1.26.4)\n",
            "Requirement already satisfied: python-dateutil>=2.8.2 in /usr/local/lib/python3.10/dist-packages (from pandas>=0.23->pandas_datareader) (2.8.2)\n",
            "Requirement already satisfied: pytz>=2020.1 in /usr/local/lib/python3.10/dist-packages (from pandas>=0.23->pandas_datareader) (2024.1)\n",
            "Requirement already satisfied: tzdata>=2022.1 in /usr/local/lib/python3.10/dist-packages (from pandas>=0.23->pandas_datareader) (2024.1)\n",
            "Requirement already satisfied: charset-normalizer<4,>=2 in /usr/local/lib/python3.10/dist-packages (from requests>=2.19.0->pandas_datareader) (3.3.2)\n",
            "Requirement already satisfied: idna<4,>=2.5 in /usr/local/lib/python3.10/dist-packages (from requests>=2.19.0->pandas_datareader) (3.7)\n",
            "Requirement already satisfied: urllib3<3,>=1.21.1 in /usr/local/lib/python3.10/dist-packages (from requests>=2.19.0->pandas_datareader) (1.26.19)\n",
            "Requirement already satisfied: certifi>=2017.4.17 in /usr/local/lib/python3.10/dist-packages (from requests>=2.19.0->pandas_datareader) (2024.7.4)\n",
            "Requirement already satisfied: six>=1.5 in /usr/local/lib/python3.10/dist-packages (from python-dateutil>=2.8.2->pandas>=0.23->pandas_datareader) (1.16.0)\n"
          ]
        }
      ]
    },
    {
      "cell_type": "code",
      "source": [
        "!pip install pandas==1.1.5 numpy==1.19.4 scipy==1.5.4"
      ],
      "metadata": {
        "colab": {
          "base_uri": "https://localhost:8080/"
        },
        "id": "S7Uss-w2clF3",
        "outputId": "e709c6ce-c26d-40d0-b0a6-8fd536591c6c"
      },
      "execution_count": 85,
      "outputs": [
        {
          "output_type": "stream",
          "name": "stdout",
          "text": [
            "Collecting pandas==1.1.5\n",
            "  Using cached pandas-1.1.5.tar.gz (5.2 MB)\n",
            "  Installing build dependencies ... \u001b[?25l\u001b[?25hdone\n",
            "  Getting requirements to build wheel ... \u001b[?25l\u001b[?25hdone\n",
            "  Preparing metadata (pyproject.toml) ... \u001b[?25l\u001b[?25hdone\n",
            "Collecting numpy==1.19.4\n",
            "  Using cached numpy-1.19.4.zip (7.3 MB)\n",
            "  Installing build dependencies ... \u001b[?25l\u001b[?25hdone\n",
            "  Getting requirements to build wheel ... \u001b[?25l\u001b[?25hdone\n",
            "  Preparing metadata (pyproject.toml) ... \u001b[?25l\u001b[?25hdone\n",
            "Collecting scipy==1.5.4\n",
            "  Using cached scipy-1.5.4.tar.gz (25.2 MB)\n",
            "  \u001b[1;31merror\u001b[0m: \u001b[1msubprocess-exited-with-error\u001b[0m\n",
            "  \n",
            "  \u001b[31m×\u001b[0m \u001b[32mpip subprocess to install build dependencies\u001b[0m did not run successfully.\n",
            "  \u001b[31m│\u001b[0m exit code: \u001b[1;36m1\u001b[0m\n",
            "  \u001b[31m╰─>\u001b[0m See above for output.\n",
            "  \n",
            "  \u001b[1;35mnote\u001b[0m: This error originates from a subprocess, and is likely not a problem with pip.\n",
            "  Installing build dependencies ... \u001b[?25l\u001b[?25herror\n",
            "\u001b[1;31merror\u001b[0m: \u001b[1msubprocess-exited-with-error\u001b[0m\n",
            "\n",
            "\u001b[31m×\u001b[0m \u001b[32mpip subprocess to install build dependencies\u001b[0m did not run successfully.\n",
            "\u001b[31m│\u001b[0m exit code: \u001b[1;36m1\u001b[0m\n",
            "\u001b[31m╰─>\u001b[0m See above for output.\n",
            "\n",
            "\u001b[1;35mnote\u001b[0m: This error originates from a subprocess, and is likely not a problem with pip.\n"
          ]
        }
      ]
    },
    {
      "cell_type": "code",
      "source": [
        "!pip3 install alpaca-trade-api"
      ],
      "metadata": {
        "colab": {
          "base_uri": "https://localhost:8080/"
        },
        "id": "XoiIrid8c3b1",
        "outputId": "36577d78-a604-4c5a-93af-656b9fa17e52"
      },
      "execution_count": 86,
      "outputs": [
        {
          "output_type": "stream",
          "name": "stdout",
          "text": [
            "Requirement already satisfied: alpaca-trade-api in /usr/local/lib/python3.10/dist-packages (3.2.0)\n",
            "Requirement already satisfied: pandas>=0.18.1 in /usr/local/lib/python3.10/dist-packages (from alpaca-trade-api) (2.1.4)\n",
            "Requirement already satisfied: numpy>=1.11.1 in /usr/local/lib/python3.10/dist-packages (from alpaca-trade-api) (1.26.4)\n",
            "Requirement already satisfied: requests<3,>2 in /usr/local/lib/python3.10/dist-packages (from alpaca-trade-api) (2.32.3)\n",
            "Requirement already satisfied: urllib3<2,>1.24 in /usr/local/lib/python3.10/dist-packages (from alpaca-trade-api) (1.26.19)\n",
            "Requirement already satisfied: websocket-client<2,>=0.56.0 in /usr/local/lib/python3.10/dist-packages (from alpaca-trade-api) (1.8.0)\n",
            "Requirement already satisfied: websockets<11,>=9.0 in /usr/local/lib/python3.10/dist-packages (from alpaca-trade-api) (10.4)\n",
            "Requirement already satisfied: msgpack==1.0.3 in /usr/local/lib/python3.10/dist-packages (from alpaca-trade-api) (1.0.3)\n",
            "Requirement already satisfied: aiohttp<4,>=3.8.3 in /usr/local/lib/python3.10/dist-packages (from alpaca-trade-api) (3.10.5)\n",
            "Requirement already satisfied: PyYAML==6.0.1 in /usr/local/lib/python3.10/dist-packages (from alpaca-trade-api) (6.0.1)\n",
            "Requirement already satisfied: deprecation==2.1.0 in /usr/local/lib/python3.10/dist-packages (from alpaca-trade-api) (2.1.0)\n",
            "Requirement already satisfied: packaging in /usr/local/lib/python3.10/dist-packages (from deprecation==2.1.0->alpaca-trade-api) (24.1)\n",
            "Requirement already satisfied: aiohappyeyeballs>=2.3.0 in /usr/local/lib/python3.10/dist-packages (from aiohttp<4,>=3.8.3->alpaca-trade-api) (2.4.0)\n",
            "Requirement already satisfied: aiosignal>=1.1.2 in /usr/local/lib/python3.10/dist-packages (from aiohttp<4,>=3.8.3->alpaca-trade-api) (1.3.1)\n",
            "Requirement already satisfied: attrs>=17.3.0 in /usr/local/lib/python3.10/dist-packages (from aiohttp<4,>=3.8.3->alpaca-trade-api) (24.2.0)\n",
            "Requirement already satisfied: frozenlist>=1.1.1 in /usr/local/lib/python3.10/dist-packages (from aiohttp<4,>=3.8.3->alpaca-trade-api) (1.4.1)\n",
            "Requirement already satisfied: multidict<7.0,>=4.5 in /usr/local/lib/python3.10/dist-packages (from aiohttp<4,>=3.8.3->alpaca-trade-api) (6.0.5)\n",
            "Requirement already satisfied: yarl<2.0,>=1.0 in /usr/local/lib/python3.10/dist-packages (from aiohttp<4,>=3.8.3->alpaca-trade-api) (1.9.4)\n",
            "Requirement already satisfied: async-timeout<5.0,>=4.0 in /usr/local/lib/python3.10/dist-packages (from aiohttp<4,>=3.8.3->alpaca-trade-api) (4.0.3)\n",
            "Requirement already satisfied: python-dateutil>=2.8.2 in /usr/local/lib/python3.10/dist-packages (from pandas>=0.18.1->alpaca-trade-api) (2.8.2)\n",
            "Requirement already satisfied: pytz>=2020.1 in /usr/local/lib/python3.10/dist-packages (from pandas>=0.18.1->alpaca-trade-api) (2024.1)\n",
            "Requirement already satisfied: tzdata>=2022.1 in /usr/local/lib/python3.10/dist-packages (from pandas>=0.18.1->alpaca-trade-api) (2024.1)\n",
            "Requirement already satisfied: charset-normalizer<4,>=2 in /usr/local/lib/python3.10/dist-packages (from requests<3,>2->alpaca-trade-api) (3.3.2)\n",
            "Requirement already satisfied: idna<4,>=2.5 in /usr/local/lib/python3.10/dist-packages (from requests<3,>2->alpaca-trade-api) (3.7)\n",
            "Requirement already satisfied: certifi>=2017.4.17 in /usr/local/lib/python3.10/dist-packages (from requests<3,>2->alpaca-trade-api) (2024.7.4)\n",
            "Requirement already satisfied: six>=1.5 in /usr/local/lib/python3.10/dist-packages (from python-dateutil>=2.8.2->pandas>=0.18.1->alpaca-trade-api) (1.16.0)\n"
          ]
        }
      ]
    },
    {
      "cell_type": "code",
      "source": [
        "# pip show alpaca-trade-api"
      ],
      "metadata": {
        "id": "8knDdxchbIBR"
      },
      "execution_count": null,
      "outputs": []
    },
    {
      "cell_type": "code",
      "execution_count": 104,
      "metadata": {
        "id": "SPARUYQXilhJ"
      },
      "outputs": [],
      "source": [
        "import numpy as np\n",
        "import matplotlib.pyplot as plt\n",
        "from math import exp\n",
        "import yfinance as yf\n",
        "import pandas as pd\n",
        "import pandas_datareader.data as web\n",
        "from pandas_datareader import data as pdr\n",
        "from alpaca_trade_api.rest import REST, TimeFrame\n",
        "from alpaca_trade_api.common import URL\n",
        "import datetime as dt\n",
        "import backtrader as bt\n",
        "from alpaca_trade_api.rest import REST\n",
        "import alpaca_trade_api as tradeapi"
      ]
    },
    {
      "cell_type": "code",
      "source": [
        "from datetime import datetime, timedelta\n",
        "import pytz\n",
        "from alpaca_trade_api.rest import REST, TimeFrame\n",
        "from alpaca_trade_api.common import URL"
      ],
      "metadata": {
        "id": "agQxF2N34P3P"
      },
      "execution_count": 111,
      "outputs": []
    },
    {
      "cell_type": "code",
      "source": [
        "import alpaca_trade_api as tradeapi"
      ],
      "metadata": {
        "id": "Xnudz0dbmBqk"
      },
      "execution_count": 112,
      "outputs": []
    },
    {
      "cell_type": "code",
      "source": [
        "import itertools\n",
        "from statsmodels.tsa.arima.model import ARIMA\n",
        "import warnings\n",
        "\n",
        "warnings.filterwarnings(\"ignore\")"
      ],
      "metadata": {
        "id": "gFKj6BH2ZguU"
      },
      "execution_count": 113,
      "outputs": []
    },
    {
      "cell_type": "code",
      "source": [
        "# Define the p, d, q ranges to test\n",
        "p = range(0, 6)\n",
        "d = range(0, 2)\n",
        "q = range(0, 6)\n",
        "pdq_combinations = list(itertools.product(p, d, q))\n",
        "\n",
        "best_aic = np.inf\n",
        "best_pdq = None\n",
        "best_model = None\n",
        "\n",
        "# Grid search over the pdq combinations\n",
        "for pdq in pdq_combinations:\n",
        "    try:\n",
        "        model = ARIMA(df['close'], order=pdq)\n",
        "        model_fit = model.fit()\n",
        "        if model_fit.aic < best_aic:\n",
        "            best_aic = model_fit.aic\n",
        "            best_pdq = pdq\n",
        "            best_model = model_fit\n",
        "    except:\n",
        "        continue\n",
        "\n",
        "print(f\"Best ARIMA Model: {best_pdq} with AIC: {best_aic}\")"
      ],
      "metadata": {
        "colab": {
          "base_uri": "https://localhost:8080/"
        },
        "id": "2sz1-e4YjEIJ",
        "outputId": "86be753d-4781-4f3c-9b23-2922d83928cf"
      },
      "execution_count": 114,
      "outputs": [
        {
          "output_type": "stream",
          "name": "stdout",
          "text": [
            "Best ARIMA Model: None with AIC: inf\n"
          ]
        }
      ]
    },
    {
      "cell_type": "code",
      "source": [
        "# Define your Alpaca API key and secret key\n",
        "API_KEY = \"PKB5WOUADWU7FATFGCYO\"\n",
        "API_SECRET = \"s5SHSPqQ7NdZdS5xIGNrb1PeOeSY6MIJ6csRy9Fp\"\n",
        "BASE_URL = 'https://paper-api.alpaca.markets'\n",
        "paper='true'"
      ],
      "metadata": {
        "id": "9Rq-o22tnW3z"
      },
      "execution_count": 115,
      "outputs": []
    },
    {
      "cell_type": "code",
      "source": [
        "# Initialize Alpaca API\n",
        "api = tradeapi.REST(API_KEY, API_SECRET, BASE_URL, api_version='v2')"
      ],
      "metadata": {
        "id": "VHaB40EikrCk"
      },
      "execution_count": 127,
      "outputs": []
    },
    {
      "cell_type": "code",
      "source": [
        "def get_historical_data(symbol, start_date, end_date, timeframe='1Day'):\n",
        "    # Request historical data from Alpaca\n",
        "    bars = api.get_bars(symbol, timeframe, start=start_date, end=end_date).df\n",
        "\n",
        "    # Filter the DataFrame by date range\n",
        "    bars = bars.loc[start_date:end_date]\n",
        "\n",
        "    # Rename columns to make them more intuitive\n",
        "    bars.reset_index(inplace=True)  # Convert 'timestamp' index to a column\n",
        "    bars.rename(columns={'timestamp': 'time', 'open': 'open', 'high': 'high', 'low': 'low', 'close': 'close', 'volume': 'volume'}, inplace=True)\n",
        "\n",
        "    # Ensure that the 'time' column is correctly formatted as a datetime\n",
        "    bars['time'] = pd.to_datetime(bars['time'])\n",
        "    bars.set_index('time', inplace=True)  # Set 'time' as the index\n",
        "\n",
        "    return bars[['open', 'high', 'low', 'close', 'volume']]\n"
      ],
      "metadata": {
        "id": "T7H9Bctu4bfl"
      },
      "execution_count": 164,
      "outputs": []
    },
    {
      "cell_type": "code",
      "source": [
        "# # Function to get historical data from Alpaca\n",
        "# def get_historical_data(symbol, start_date, end_date, timeframe='1D'):\n",
        "#     bars = api.get_bars(symbol, timeframe, start=start_date, end=end_date)\n",
        "#     if isinstance(bars, list):\n",
        "#         bars=bars[0]\n",
        "#     else:\n",
        "#       bars = bars[symbol]\n",
        "\n",
        "#     data = []\n",
        "#     for bar in bars:\n",
        "#         data.append([bar.t, bar.o, bar.h, bar.l, bar.c, bar.v])\n",
        "\n",
        "#     df = pd.DataFrame(data, columns=['time', 'open', 'high', 'low', 'close', 'volume'])\n",
        "#     df['time'] = pd.to_datetime(df['time'])\n",
        "#     df.set_index('time', inplace=True)\n",
        "#     return df\n"
      ],
      "metadata": {
        "id": "-qUQg7kWkqoR"
      },
      "execution_count": 146,
      "outputs": []
    },
    {
      "cell_type": "code",
      "source": [
        "# Technical Indicators\n",
        "def calculate_indicators(df):\n",
        "    # Moving Averages\n",
        "    df['SMA50'] = df['close'].rolling(window=50).mean()\n",
        "    df['SMA200'] = df['close'].rolling(window=200).mean()\n",
        "\n",
        "    # Bollinger Bands\n",
        "    df['stddev'] = df['close'].rolling(window=20).std()\n",
        "    df['UpperBB'] = df['SMA50'] + (df['stddev'] * 2)\n",
        "    df['LowerBB'] = df['SMA50'] - (df['stddev'] * 2)\n",
        "\n",
        "    # RSI\n",
        "    delta = df['close'].diff()\n",
        "    gain = (delta.where(delta > 0, 0)).rolling(window=14).mean()\n",
        "    loss = (-delta.where(delta < 0, 0)).rolling(window=14).mean()\n",
        "    rs = gain / loss\n",
        "    df['RSI'] = 100 - (100 / (1 + rs))\n",
        "\n",
        "    # MACD\n",
        "    df['EMA12'] = df['close'].ewm(span=12, adjust=False).mean()\n",
        "    df['EMA26'] = df['close'].ewm(span=26, adjust=False).mean()\n",
        "    df['MACD'] = df['EMA12'] - df['EMA26']\n",
        "    df['Signal'] = df['MACD'].ewm(span=9, adjust=False).mean()\n",
        "\n",
        "    return df"
      ],
      "metadata": {
        "id": "ABt-DNMzk5I6"
      },
      "execution_count": 165,
      "outputs": []
    },
    {
      "cell_type": "code",
      "source": [
        "# ARIMA Forecasting\n",
        "def arima_forecasting(df):\n",
        "    model = ARIMA(df['close'], order=(5, 1, 0))  # Basic ARIMA model (5,1,0)\n",
        "    model_fit = model.fit()\n",
        "    forecast = model_fit.forecast(steps=5)  # Predict the next 5 periods\n",
        "    return forecast"
      ],
      "metadata": {
        "id": "-B66matElDmL"
      },
      "execution_count": 166,
      "outputs": []
    },
    {
      "cell_type": "code",
      "source": [
        "# Seasonality Detection\n",
        "def seasonality_analysis(df):\n",
        "    df['Month'] = df.index.month\n",
        "    seasonality = df.groupby('Month')['close'].mean()\n",
        "    return seasonality"
      ],
      "metadata": {
        "id": "LD3E4NsmlIye"
      },
      "execution_count": 167,
      "outputs": []
    },
    {
      "cell_type": "code",
      "source": [
        "# Backtesting Function\n",
        "def backtest(df):\n",
        "    cash = 100000  # Starting with $100,000\n",
        "    position = 0  # No initial position\n",
        "    initial_cash = cash\n",
        "    returns = []\n",
        "\n",
        "    for i in range(1, len(df)):\n",
        "        # Buy Signal: When short-term SMA crosses above long-term SMA\n",
        "        if df['SMA50'][i] > df['SMA200'][i] and df['SMA50'][i-1] <= df['SMA200'][i-1]:\n",
        "            if position == 0:  # Buy\n",
        "                position = cash / df['close'][i]\n",
        "                cash = 0\n",
        "                print(f\"Buy at {df.index[i]} price {df['close'][i]}\")\n",
        "\n",
        "        # Sell Signal: When short-term SMA crosses below long-term SMA\n",
        "        elif df['SMA50'][i] < df['SMA200'][i] and df['SMA50'][i-1] >= df['SMA200'][i-1]:\n",
        "            if position > 0:  # Sell\n",
        "                cash = position * df['close'][i]\n",
        "                position = 0\n",
        "                print(f\"Sell at {df.index[i]} price {df['close'][i]}\")\n",
        "\n",
        "        # Calculate portfolio value and store returns\n",
        "        portfolio_value = cash + position * df['close'][i]\n",
        "        returns.append(portfolio_value)\n",
        "\n",
        "    total_return = (cash + position * df['close'][-1] - initial_cash) / initial_cash\n",
        "    print(f\"Total Return: {total_return * 100:.2f}%\")\n",
        "\n",
        "    return returns"
      ],
      "metadata": {
        "id": "r083KhkklL8z"
      },
      "execution_count": 168,
      "outputs": []
    },
    {
      "cell_type": "code",
      "source": [
        "# Profitability Assessment: Sharpe Ratio and Max Drawdown\n",
        "def calculate_profitability(returns):\n",
        "    returns = pd.Series(returns)\n",
        "    risk_free_rate = 0.01  # Example of a risk-free rate (1%)\n",
        "    sharpe_ratio = (returns.pct_change().mean() - risk_free_rate) / returns.pct_change().std()\n",
        "    max_drawdown = (returns / returns.cummax() - 1).min()\n",
        "    print(f\"Sharpe Ratio: {sharpe_ratio:.2f}\")\n",
        "    print(f\"Maximum Drawdown: {max_drawdown * 100:.2f}%\")"
      ],
      "metadata": {
        "id": "LRMJowFVlT3V"
      },
      "execution_count": 169,
      "outputs": []
    },
    {
      "cell_type": "code",
      "source": [
        "# Plotting Function\n",
        "def plot_indicators(df):\n",
        "    plt.figure(figsize=(12, 8))\n",
        "\n",
        "    # Plot Closing Price and Moving Averages\n",
        "    plt.plot(df['close'], label='Close Price')\n",
        "    plt.plot(df['SMA50'], label='SMA 50', linestyle='--')\n",
        "    plt.plot(df['SMA200'], label='SMA 200', linestyle='--')\n",
        "\n",
        "    # Plot Bollinger Bands\n",
        "    plt.fill_between(df.index, df['UpperBB'], df['LowerBB'], color='gray', alpha=0.2, label='Bollinger Bands')\n",
        "\n",
        "    # Plot Buy/Sell Signals\n",
        "    buy_signals = df[(df['SMA50'] > df['SMA200']) & (df['SMA50'].shift(1) <= df['SMA200'].shift(1))]\n",
        "    sell_signals = df[(df['SMA50'] < df['SMA200']) & (df['SMA50'].shift(1) >= df['SMA200'].shift(1))]\n",
        "\n",
        "    plt.scatter(buy_signals.index, buy_signals['close'], marker='^', color='green', label='Buy Signal', s=100)\n",
        "    plt.scatter(sell_signals.index, sell_signals['close'], marker='v', color='red', label='Sell Signal', s=100)\n",
        "\n",
        "    plt.title('Technical Indicators and Trading Signals')\n",
        "    plt.legend()\n",
        "    plt.show()"
      ],
      "metadata": {
        "id": "Q_U8AaEHlX9k"
      },
      "execution_count": 170,
      "outputs": []
    },
    {
      "cell_type": "code",
      "source": [
        "# Example usage\n",
        "symbol = 'SPY'  # S&P 500 ETF\n",
        "start_date = (datetime.now() - timedelta(days=365)).strftime('%Y-%m-%d')\n",
        "end_date = datetime.now().strftime('%Y-%m-%d')"
      ],
      "metadata": {
        "id": "6YVHGWEXldPT"
      },
      "execution_count": 171,
      "outputs": []
    },
    {
      "cell_type": "code",
      "source": [
        "df = get_historical_data(symbol, start_date, end_date)\n",
        "df = calculate_indicators(df)\n",
        "forecast = arima_forecasting(df)\n",
        "seasonality = seasonality_analysis(df)\n",
        "returns = backtest(df)\n",
        "plot_indicators(df)\n",
        "calculate_profitability(returns)\n",
        "\n",
        "# Display ARIMA Forecast\n",
        "print(f\"ARIMA Forecast: {forecast}\")\n",
        "\n",
        "# Display Seasonality Analysis\n",
        "print(f\"Seasonality Analysis:\\n{seasonality}\")"
      ],
      "metadata": {
        "colab": {
          "base_uri": "https://localhost:8080/",
          "height": 1000
        },
        "id": "y-x1YwQ4lg9F",
        "outputId": "101666e8-040b-4142-ae11-87b7e1d02f2d"
      },
      "execution_count": 172,
      "outputs": [
        {
          "output_type": "stream",
          "name": "stdout",
          "text": [
            "Total Return: 0.00%\n"
          ]
        },
        {
          "output_type": "display_data",
          "data": {
            "text/plain": [
              "<Figure size 1200x800 with 1 Axes>"
            ],
            "image/png": "[encoded data removed]"
          },
          "metadata": {}
        },
        {
          "output_type": "stream",
          "name": "stdout",
          "text": [
            "Sharpe Ratio: -inf\n",
            "Maximum Drawdown: 0.00%\n",
            "ARIMA Forecast: 251    560.922836\n",
            "252    560.152450\n",
            "253    561.263186\n",
            "254    560.704281\n",
            "255    560.768763\n",
            "Name: predicted_mean, dtype: float64\n",
            "Seasonality Analysis:\n",
            "Month\n",
            "1     478.810952\n",
            "2     499.971500\n",
            "3     515.735000\n",
            "4     509.577273\n",
            "5     522.420455\n",
            "6     540.500000\n",
            "7     552.018182\n",
            "8     526.160455\n",
            "9     439.932500\n",
            "10    425.657273\n",
            "11    445.253333\n",
            "12    467.454500\n",
            "Name: close, dtype: float64\n"
          ]
        }
      ]
    },
    {
      "cell_type": "code",
      "source": [
        "class OptionPricing:\n",
        "    def __init__(self, S0, E, T, rf, sigma, iterations):\n",
        "        \"\"\"\n",
        "        Initialize the OptionPricing class with given parameters.\n",
        "\n",
        "        Parameters:\n",
        "        S0 (float): Current stock price\n",
        "        E (float): Strike price\n",
        "        T (float): Time to maturity (in years)\n",
        "        rf (float): Risk-free interest rate\n",
        "        sigma (float): Volatility of the stock\n",
        "        iterations (int): Number of simulation iterations\n",
        "        \"\"\"\n",
        "        self.S0 = S0\n",
        "        self.E = E\n",
        "        self.T = T\n",
        "        self.rf = rf\n",
        "        self.sigma = sigma\n",
        "        self.iterations = iterations"
      ],
      "metadata": {
        "id": "QxsVcxl6ldbQ"
      },
      "execution_count": null,
      "outputs": []
    },
    {
      "cell_type": "code",
      "source": [
        "    def call_option_simulation(self):\n",
        "        \"\"\"\n",
        "        Simulate the pricing of a call option using Monte Carlo simulation.\n",
        "\n",
        "        Returns:\n",
        "        float: Present value of the average payoff for the call option\n",
        "        \"\"\"\n",
        "        # Generate random normal numbers\n",
        "        rand = np.random.normal(0, 1, self.iterations)\n",
        "\n",
        "        # Simulate stock prices at maturity\n",
        "        stock_price = self.S0 * np.exp(self.T * (self.rf - 0.5 * self.sigma**2) + self.sigma * np.sqrt(self.T) * rand)\n",
        "\n",
        "        # Calculate the payoff for the call option\n",
        "        payoff = np.maximum(stock_price - self.E, 0)\n",
        "\n",
        "        # Calculate the average payoff\n",
        "        average_payoff = np.mean(payoff) * np.exp(-self.rf * self.T)\n",
        "\n",
        "        # Discount the average payoff to present value\n",
        "        return np.exp(-self.rf * self.T) * average_payoff"
      ],
      "metadata": {
        "id": "9kao_s-blqbs"
      },
      "execution_count": null,
      "outputs": []
    },
    {
      "cell_type": "code",
      "source": [
        "    # def put_option_simulation(self):\n",
        "    #     \"\"\"\n",
        "    #     Simulate the pricing of a put option using Monte Carlo simulation.\n",
        "\n",
        "    #     Returns:\n",
        "    #     float: Present value of the average payoff for the put option\n",
        "    #     \"\"\"\n",
        "    #     # Generate random normal numbers\n",
        "    #     rand = np.random.normal(0, 1, self.iterations)\n",
        "\n",
        "    #     # Simulate stock prices at maturity\n",
        "    #     stock_price = self.S0 * np.exp(self.T * (self.rf - 0.5 * self.sigma**2) + self.sigma * np.sqrt(self.T) * rand)\n",
        "\n",
        "    #     # Calculate the payoff for the put option\n",
        "    #     payoff = np.maximum(self.E - stock_price, 0)\n",
        "\n",
        "    #     # Calculate the average payoff\n",
        "    #     average_payoff = np.mean(payoff)\n",
        "\n",
        "    #     # Discount the average payoff to present value\n",
        "    #     return np.exp(-self.rf * self.T) * average_payoff\n"
      ],
      "metadata": {
        "id": "yeS2V0IKlwZs"
      },
      "execution_count": null,
      "outputs": []
    },
    {
      "cell_type": "code",
      "source": [
        "def put_option_simulation(self):\n",
        "        rand = np.random.normal(0, 1, self.iterations)\n",
        "        stock_price = self.S0 * np.exp(self.T * (self.rf - 0.5 * self.sigma**2) + self.sigma * np.sqrt(self.T) * rand)\n",
        "        payoff = np.maximum(self.E - stock_price, 0)\n",
        "        average_payoff = np.mean(payoff)\n",
        "        return np.exp(-self.rf * self.T) * average_payoff"
      ],
      "metadata": {
        "id": "hzZmdJZeyEi3"
      },
      "execution_count": null,
      "outputs": []
    },
    {
      "cell_type": "code",
      "source": [
        "def get_option_data(api, symbol):\n",
        "    try:\n",
        "        # Fetch the current stock price\n",
        "        bars = api.get_bars(symbol, tradeapi.TimeFrame.Day, \"2024-07-01\", \"2024-07-24\").df\n",
        "        stock_price = bars['close'].iloc[-1]\n",
        "\n",
        "        # Fetch the option data\n",
        "        option_chain = api.get_option_chain(symbol=symbol)\n",
        "        contracts = option_chain.contracts\n",
        "        expirations = list(contracts.keys())\n",
        "        implied_volatility = contracts[expirations[0]][0].implied_volatility\n",
        "\n",
        "        return stock_price, implied_volatility\n",
        "    except Exception as e:\n",
        "        print(f\"An error occurred: {e}\")\n",
        "        return None, None"
      ],
      "metadata": {
        "id": "tyy4ED0jlz6X"
      },
      "execution_count": null,
      "outputs": []
    },
    {
      "cell_type": "code",
      "source": [
        "if __name__ == '__main__':\n",
        "    API_KEY = 'api_key'\n",
        "    SECRET_KEY = 'api_secret'\n",
        "    BASE_URL = 'https://paper-api.alpaca.markets'\n",
        "\n",
        "    alpaca_api = tradeapi.REST(API_KEY, SECRET_KEY, BASE_URL, api_version='v2')\n",
        "\n",
        "    symbol = 'AAPL'\n",
        "    stock_price, implied_volatility = get_option_data(alpaca_api, symbol)\n",
        "\n",
        "    if stock_price is not None and implied_volatility is not None:\n",
        "        # Set the parameters for the simulation\n",
        "        E = 160  # Example strike price\n",
        "        T = 0.5  # Example time to maturity in years\n",
        "        rf = 0.01  # Example risk-free interest rate\n",
        "        iterations = 100000\n",
        "\n",
        "        option_pricing = OptionPricing(stock_price, E, T, rf, implied_volatility, iterations)\n",
        "        call_price = option_pricing.call_option_simulation()\n",
        "        put_price = option_pricing.put_option_simulation()\n",
        "\n",
        "        print(f\"Call Option Price: {call_price}\")\n",
        "        print(f\"Put Option Price: {put_price}\")\n",
        "    else:\n",
        "        print(\"Failed to fetch option data.\")"
      ],
      "metadata": {
        "id": "xqb8By7uz-GX"
      },
      "execution_count": null,
      "outputs": []
    }
  ]
}